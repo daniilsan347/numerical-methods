{
 "cells": [
  {
   "cell_type": "code",
   "execution_count": 42,
   "metadata": {},
   "outputs": [],
   "source": [
    "import math\n",
    "\n",
    "def f1_y(x):\n",
    "    return 1.2 - math.cos(x)\n",
    "\n",
    "def f2_x(y):\n",
    "    return (2 + math.sin(y - 0.5)) / 2"
   ]
  },
  {
   "cell_type": "code",
   "execution_count": 43,
   "metadata": {},
   "outputs": [
    {
     "data": {
      "text/plain": [
       "Text(0, 0.5, 'y')"
      ]
     },
     "execution_count": 43,
     "metadata": {},
     "output_type": "execute_result"
    },
    {
     "data": {
      "image/png": "[encoded data removed]",
      "text/plain": [
       "<Figure size 640x480 with 1 Axes>"
      ]
     },
     "metadata": {},
     "output_type": "display_data"
    }
   ],
   "source": [
    "import matplotlib.pyplot as plt\n",
    "import numpy as np\n",
    "\n",
    "x1 = np.arange(-2, 3, 0.1)\n",
    "y1 = [f1_y(i) for i in x1]\n",
    "plt.plot(x1, y1, 'r')\n",
    "\n",
    "y2 = np.arange(-3, 3, 0.1)\n",
    "x2 = [f2_x(i) for i in y2]\n",
    "plt.plot(x2, y2, 'b')\n",
    "\n",
    "plt.grid()\n",
    "plt.xlabel(xlabel='x')\n",
    "plt.ylabel(ylabel='y')\n"
   ]
  },
  {
   "cell_type": "code",
   "execution_count": 44,
   "metadata": {},
   "outputs": [],
   "source": [
    "# Range: 1 < x < 1.5; 0.5 < y < 1\n",
    "xa = 1; xb = 1.5\n",
    "ya = 0.5; yb = 1"
   ]
  },
  {
   "cell_type": "code",
   "execution_count": 45,
   "metadata": {},
   "outputs": [
    {
     "name": "stdout",
     "output_type": "stream",
     "text": [
      "Derivative 1: \u001b[42;30m 0.8394 < 1 \u001b[0m\n",
      "Derivative 2: \u001b[42;30m 0.3692 < 1 \u001b[0m\n"
     ]
    }
   ],
   "source": [
    "from scipy.misc import derivative\n",
    "\n",
    "# d(f1)/dx = derivative(f1_y); d(f2)/dx = 0\n",
    "# d(f1)/dy = 0; d(f2)/dy = derivative(f1_x)\n",
    "\n",
    "der1 = derivative(f1_y, xb)\n",
    "der2 = derivative(f2_x, yb)\n",
    "\n",
    "# Green background escape code: \\x1b[42m\n",
    "\n",
    "print(f\"Derivative 1: \\x1b[42;30m {der1:.4g} < 1 \\x1b[0m\")\n",
    "print(f\"Derivative 2: \\x1b[42;30m {der2:.4g} < 1 \\x1b[0m\")\n"
   ]
  },
  {
   "cell_type": "code",
   "execution_count": 49,
   "metadata": {},
   "outputs": [
    {
     "name": "stdout",
     "output_type": "stream",
     "text": [
      "Iteration Solution: \u001b[42;30m (1.1389, 0.7813) \u001b[0m\n"
     ]
    }
   ],
   "source": [
    "xn = (xa + xb) / 2\n",
    "yn = (ya + yb) / 2\n",
    "\n",
    "while True:\n",
    "    xn1 = f2_x(yn)\n",
    "    yn1 = f1_y(xn)\n",
    "    if abs(xn1 - xn) < 0.0001 and abs(yn1 - yn) < 0.0001:\n",
    "        break\n",
    "    xn = xn1\n",
    "    yn = yn1\n",
    "\n",
    "print(f\"Iteration Solution: \\x1b[42;30m ({xn:.4f}, {yn:.4f}) \\x1b[0m\")"
   ]
  },
  {
   "cell_type": "code",
   "execution_count": 48,
   "metadata": {},
   "outputs": [
    {
     "name": "stdout",
     "output_type": "stream",
     "text": [
      "SciPy Solution: \u001b[42;30m (1.1388, 0.7813) \u001b[0m\n"
     ]
    }
   ],
   "source": [
    "from scipy.optimize import fsolve\n",
    "\n",
    "def equations(p):\n",
    "    x, y = p\n",
    "    return (math.cos(x) + y - 1.2, 2 * x - math.sin(y - 0.5) - 2)\n",
    "\n",
    "x, y = fsolve(equations, (1, 1))\n",
    "print(f\"SciPy Solution: \\x1b[42;30m ({x:.4f}, {y:.4f}) \\x1b[0m\")"
   ]
  }
 ],
 "metadata": {
  "kernelspec": {
   "display_name": "Python 3.10.0 64-bit",
   "language": "python",
   "name": "python3"
  },
  "language_info": {
   "codemirror_mode": {
    "name": "ipython",
    "version": 3
   },
   "file_extension": ".py",
   "mimetype": "text/x-python",
   "name": "python",
   "nbconvert_exporter": "python",
   "pygments_lexer": "ipython3",
   "version": "3.10.0"
  },
  "orig_nbformat": 4,
  "vscode": {
   "interpreter": {
    "hash": "9d510c4134c8c83d881e395b12e1a77e9e2e9fe690f25cdc8839b735785a9cd2"
   }
  }
 },
 "nbformat": 4,
 "nbformat_minor": 2
}
