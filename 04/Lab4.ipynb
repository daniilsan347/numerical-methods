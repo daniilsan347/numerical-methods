{
 "cells": [
  {
   "cell_type": "code",
   "execution_count": 26,
   "metadata": {},
   "outputs": [],
   "source": [
    "import numpy as np"
   ]
  },
  {
   "cell_type": "code",
   "execution_count": 27,
   "metadata": {},
   "outputs": [
    {
     "name": "stdout",
     "output_type": "stream",
     "text": [
      "AB:\n",
      " [[ 7 12 15]\n",
      " [ 0  7 12]\n",
      " [ 0  0  7]]\n",
      "BA:\n",
      " [[ 7 12 15]\n",
      " [ 0  7 12]\n",
      " [ 0  0  7]]\n",
      "AB - BA:\n",
      "[[0 0 0]\n",
      " [0 0 0]\n",
      " [0 0 0]]\n"
     ]
    }
   ],
   "source": [
    "# 1.1.3\n",
    "\n",
    "mat_a = np.matrix('1 1 1; 0 1 1; 0 0 1')\n",
    "mat_b = np.matrix('7 5 3; 0 7 5; 0 0 7')\n",
    "\n",
    "print('AB:\\n', mat_a * mat_b)\n",
    "print('BA:\\n', mat_b * mat_a)\n",
    "\n",
    "print('AB - BA:')\n",
    "print(mat_a * mat_b - mat_b * mat_a)"
   ]
  },
  {
   "cell_type": "code",
   "execution_count": 28,
   "metadata": {},
   "outputs": [
    {
     "name": "stdout",
     "output_type": "stream",
     "text": [
      "A^2:\n",
      "['2a', 0, 0, 0]\n",
      "[0, '2b', 0, 0]\n",
      "[0, 0, '2c', 0]\n",
      "[0, 0, 0, '2d']\n"
     ]
    }
   ],
   "source": [
    "# 1.2.3\n",
    "mat_a = [['a', 0, 0, 0], [0, 'b', 0, 0], [0, 0, 'c', 0], [0, 0, 0, 'd']]\n",
    "\n",
    "mat_c = [[] for i in range(len(mat_a))]\n",
    "\n",
    "for i in range(4):\n",
    "    for j in range(4):\n",
    "        if mat_a[i][j] == mat_a[j][i] and mat_a[i][j] != 0:\n",
    "            mat_c[i].append('2'+mat_a[i][j])\n",
    "        elif mat_a[i][j] != mat_a[j][i] and mat_a[i][j] != 0 and mat_a[j][i] != 0:\n",
    "            mat_c[i].append(mat_a[i][j]+mat_a[j][i])\n",
    "        else:\n",
    "            mat_c[i].append(mat_a[i][j]*mat_a[j][i])\n",
    "\n",
    "print('A^2:')\n",
    "for row in mat_c:\n",
    "    print(row)"
   ]
  },
  {
   "cell_type": "code",
   "execution_count": 29,
   "metadata": {},
   "outputs": [
    {
     "name": "stdout",
     "output_type": "stream",
     "text": [
      "AB cannot be calculated\n",
      "shapes (3,4) and (1,4) not aligned: 4 (dim 1) != 1 (dim 0)\n"
     ]
    }
   ],
   "source": [
    "# 1.3.4\n",
    "mat_a = np.matrix('5 0 2 3; 4 1 5 3; 3 1 -1 2')\n",
    "mat_b = np.matrix('6 -2 7 4')\n",
    "\n",
    "try:\n",
    "    mat_c = mat_a * mat_b\n",
    "    print('AB =')\n",
    "    print(mat_c)\n",
    "except ValueError as e:\n",
    "    print('AB cannot be calculated')\n",
    "    print(e)"
   ]
  },
  {
   "cell_type": "code",
   "execution_count": 30,
   "metadata": {},
   "outputs": [
    {
     "name": "stdout",
     "output_type": "stream",
     "text": [
      "|A|: -8\n"
     ]
    }
   ],
   "source": [
    "# 1.4.4\n",
    "mat_a = np.matrix('1 2 3; -1 2 1; 1 3 2')\n",
    "mat_a_det = np.linalg.det(mat_a)\n",
    "\n",
    "print(f'|A|: {mat_a_det:.2g}')"
   ]
  },
  {
   "cell_type": "code",
   "execution_count": 31,
   "metadata": {},
   "outputs": [
    {
     "name": "stdout",
     "output_type": "stream",
     "text": [
      "|A|: -24\n"
     ]
    }
   ],
   "source": [
    "# 1.5.3\n",
    "mat_a = np.matrix('1 2 0 0 0; 1 0 2 0 0; 1 0 0 2 0; 1 0 0 0 2; 0 0 1 1 1')\n",
    "mat_a_det = np.linalg.det(mat_a)\n",
    "\n",
    "print(f'|A|: {mat_a_det:.2g}')"
   ]
  },
  {
   "cell_type": "code",
   "execution_count": 32,
   "metadata": {},
   "outputs": [
    {
     "name": "stdout",
     "output_type": "stream",
     "text": [
      "A^-1:\n",
      "[[  2.  -1.   0.   0.]\n",
      " [ -3.   2.  -0.  -0.]\n",
      " [ 31. -19.   3.  -4.]\n",
      " [-23.  14.  -2.   3.]]\n"
     ]
    }
   ],
   "source": [
    "# 1.6.4\n",
    "mat_a = np.matrix('2 1 0 0; 3 2 0 0; 1 1 3 4; 2 -1 2 3')\n",
    "mat_a_inv = np.linalg.inv(mat_a)\n",
    "\n",
    "print('A^-1:')\n",
    "print(mat_a_inv)"
   ]
  },
  {
   "cell_type": "code",
   "execution_count": 33,
   "metadata": {},
   "outputs": [
    {
     "name": "stdout",
     "output_type": "stream",
     "text": [
      "rank(A): 3\n"
     ]
    }
   ],
   "source": [
    "# 1.7.3\n",
    "mat_a = np.matrix('-2 3 1 -1; 3 2 1 4; 1 2 3 4; 0 2 3 3')\n",
    "mat_a_rank = np.linalg.matrix_rank(mat_a)\n",
    "\n",
    "print(f'rank(A): {mat_a_rank}')"
   ]
  },
  {
   "cell_type": "code",
   "execution_count": 34,
   "metadata": {},
   "outputs": [
    {
     "name": "stdout",
     "output_type": "stream",
     "text": [
      "x:  1.00\n",
      "y: -1.00\n",
      "z:  2.00\n"
     ]
    }
   ],
   "source": [
    "# 1.8.24\n",
    "def kramer(A, B):\n",
    "    A_det = np.linalg.det(A)\n",
    "    \n",
    "    # Check if |A| = 0\n",
    "    if not A_det:\n",
    "        raise ValueError('Determinant of A is zero')\n",
    "    \n",
    "    # x matrix\n",
    "    x_mat = np.matrix(A)\n",
    "    x_mat[:, 0] = B\n",
    "\n",
    "    # y matrix\n",
    "    y_mat = np.matrix(A)\n",
    "    y_mat[:, 1] = B\n",
    "\n",
    "    # z matrix\n",
    "    z_mat = np.matrix(A)\n",
    "    z_mat[:, 2] = B\n",
    "\n",
    "    x = np.linalg.det(x_mat) / A_det\n",
    "    y = np.linalg.det(y_mat) / A_det\n",
    "    z = np.linalg.det(z_mat) / A_det\n",
    "\n",
    "    return x, y, z\n",
    "\n",
    "mat_a = np.matrix('1 2 -1; 3 4 1; 5 1 -3')\n",
    "mat_b = np.matrix('-3; 1; -2')\n",
    "\n",
    "x, y, z = kramer(mat_a, mat_b)\n",
    "print(f'x: {x: .2f}\\ny: {y: .2f}\\nz: {z: .2f}')"
   ]
  },
  {
   "cell_type": "code",
   "execution_count": 35,
   "metadata": {},
   "outputs": [
    {
     "name": "stdout",
     "output_type": "stream",
     "text": [
      "Matrix:\n",
      " (3) (2) (2) (6) (3) (5) (4) (2)\n",
      "  0   2   5   5  -3   6  -1   6 (2)\n",
      "  5   0   6  -1   2   7   5   9 (1)\n",
      "  8   9   0  -4   4   6  -4   9 (2)\n",
      "  0   2   8  -5   1 -10  -1  -1 (4)\n",
      "  6 -10  -3  -7  -1  -4 -10   3 (6)\n",
      " -8   0  -9 -10   7  -7  10   4 (4)\n",
      " -2  10   1   9   6  -9   2   3 (2)\n",
      " -2  -2   4  -7  -4  -2   4  -7 (6)\n"
     ]
    }
   ],
   "source": [
    "# 2.6\n",
    "import random\n",
    "\n",
    "# Get size of matrix\n",
    "n = int(input('Enter n: ')); m = int(input('Enter m: '))\n",
    "\n",
    "# Generate random matrix\n",
    "mat_a = np.matrix([[random.randint(-10, 10) for j in range(m)] for i in range(n)])\n",
    "\n",
    "# Generate list amounts of negative numbers in each row\n",
    "row_neg = [sum([1 for j in range(m) if mat_a[i, j] < 0]) for i in range(n)]\n",
    "# Generate list amounts of negative numbers in each column\n",
    "col_neg = [sum([1 for i in range(n) if mat_a[i, j] < 0]) for j in range(m)]\n",
    "\n",
    "# Print matrix with negative amounts by rows and columns\n",
    "print('Matrix:')\n",
    "for i in col_neg:\n",
    "    print(f' ({i})', end='')\n",
    "\n",
    "print()\n",
    "\n",
    "for i in range(n):\n",
    "    for j in range(m):\n",
    "        print(f'{mat_a[i, j]: 3d}', end=' ')\n",
    "    print(f'({row_neg[i]})')"
   ]
  }
 ],
 "metadata": {
  "kernelspec": {
   "display_name": "Python 3.10.0 64-bit",
   "language": "python",
   "name": "python3"
  },
  "language_info": {
   "codemirror_mode": {
    "name": "ipython",
    "version": 3
   },
   "file_extension": ".py",
   "mimetype": "text/x-python",
   "name": "python",
   "nbconvert_exporter": "python",
   "pygments_lexer": "ipython3",
   "version": "3.10.0"
  },
  "orig_nbformat": 4,
  "vscode": {
   "interpreter": {
    "hash": "9d510c4134c8c83d881e395b12e1a77e9e2e9fe690f25cdc8839b735785a9cd2"
   }
  }
 },
 "nbformat": 4,
 "nbformat_minor": 2
}
