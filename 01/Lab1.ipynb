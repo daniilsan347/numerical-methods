{
 "cells": [
  {
   "cell_type": "markdown",
   "metadata": {
    "pycharm": {
     "name": "#%% md\n"
    }
   },
   "source": [
    "Лаба 1  \n",
    "Варіант 24\n"
   ]
  },
  {
   "cell_type": "code",
   "execution_count": 23,
   "metadata": {
    "pycharm": {
     "name": "#%%\n"
    }
   },
   "outputs": [],
   "source": [
    "import math"
   ]
  },
  {
   "cell_type": "code",
   "execution_count": 24,
   "metadata": {
    "pycharm": {
     "name": "#%%\n"
    }
   },
   "outputs": [
    {
     "name": "stdout",
     "output_type": "stream",
     "text": [
      "√55 ≈ 7,41 is more accurate. δx1: 0.00085\n"
     ]
    }
   ],
   "source": [
    "# Task 1\n",
    "\n",
    "x1 = round(math.sqrt(55), 4)\n",
    "X1 = 7.41\n",
    "\n",
    "x2 = round(20/13, 4)\n",
    "X2 = 1.54\n",
    "\n",
    "dX1 = abs(x1 - X1)\n",
    "dx1 = dX1 + 0.0001\n",
    "\n",
    "dX2 = abs(x2 - X2)\n",
    "dx2 = dX2 + 0.0001\n",
    "\n",
    "reldx1 = round(abs(dx1/x1), 5)\n",
    "reldx2 = round(abs(dx2/x2), 5)\n",
    "\n",
    "\n",
    "if reldx1 > reldx2:\n",
    "    print(\"20/13 ≈ 1.54 is more accurate. δx2:\", reldx2)\n",
    "else:\n",
    "    print(\"√55 ≈ 7,41 is more accurate. δx1:\", reldx1)"
   ]
  },
  {
   "cell_type": "code",
   "execution_count": 25,
   "metadata": {
    "pycharm": {
     "name": "#%%\n"
    }
   },
   "outputs": [
    {
     "name": "stdout",
     "output_type": "stream",
     "text": [
      "Correct significant digits in the narrow sense of an approximate number are: 2.36. n=3\n"
     ]
    }
   ],
   "source": [
    "# Task 2.a\n",
    "\n",
    "x = 2.3684\n",
    "dx = 0.0017\n",
    "\n",
    "n = 1\n",
    "\n",
    "while True:\n",
    "    if dx <= 0.5 * 10**(0-n+1):\n",
    "        n += 1\n",
    "    else:\n",
    "        n -= 1\n",
    "        print(f'Correct significant digits in the narrow sense of an approximate number are: {str(x)[:n+1]}. n={n}')\n",
    "        break"
   ]
  },
  {
   "cell_type": "code",
   "execution_count": 26,
   "metadata": {
    "pycharm": {
     "name": "#%%\n"
    }
   },
   "outputs": [
    {
     "name": "stdout",
     "output_type": "stream",
     "text": [
      "Correct significant digits in the narrow sense of an approximate number are: 45.7. n=3\n"
     ]
    }
   ],
   "source": [
    "# Task 2.b\n",
    "\n",
    "x = 45.7832\n",
    "reldx = 0.0018\n",
    "dx = x * reldx\n",
    "\n",
    "n = 1\n",
    "while True:\n",
    "    if dx <= 1 * 10**(1-n+1):\n",
    "        n += 1\n",
    "    else:\n",
    "        n -= 1\n",
    "        print(f'Correct significant digits in the narrow sense of an approximate number are: {str(x)[:n+1]}. n={n}')\n",
    "        break"
   ]
  },
  {
   "cell_type": "code",
   "execution_count": 27,
   "metadata": {
    "pycharm": {
     "name": "#%%\n"
    }
   },
   "outputs": [
    {
     "name": "stdout",
     "output_type": "stream",
     "text": [
      "Δx = 0.0005; δx = 0.087%.\n"
     ]
    }
   ],
   "source": [
    "# Task 3.a\n",
    "\n",
    "x = 0.573\n",
    "deciDig = 3\n",
    "\n",
    "dx = 0.5 / 10**deciDig # Division instead using 0.1 to avoid ...0000001 error\n",
    "reldx = round(dx/x, 5) * 100\n",
    "print(f'Δx = {dx}; δx = {reldx}%.')"
   ]
  },
  {
   "cell_type": "code",
   "execution_count": 28,
   "metadata": {
    "pycharm": {
     "name": "#%%\n"
    }
   },
   "outputs": [
    {
     "name": "stdout",
     "output_type": "stream",
     "text": [
      "Δx = 0.0001; δx = 0.003%.\n"
     ]
    }
   ],
   "source": [
    "# Task 3.b\n",
    "\n",
    "x = 3.6761\n",
    "deciDig = 4\n",
    "\n",
    "dx = 1 / 10**deciDig\n",
    "reldx = round(dx/x, 5) * 100\n",
    "print(f'Δx = {dx}; δx = {reldx}%.')"
   ]
  }
 ],
 "metadata": {
  "kernelspec": {
   "display_name": "Python 3.10.0 64-bit",
   "language": "python",
   "name": "python3"
  },
  "language_info": {
   "codemirror_mode": {
    "name": "ipython",
    "version": 3
   },
   "file_extension": ".py",
   "mimetype": "text/x-python",
   "name": "python",
   "nbconvert_exporter": "python",
   "pygments_lexer": "ipython3",
   "version": "3.10.0"
  },
  "orig_nbformat": 4,
  "vscode": {
   "interpreter": {
    "hash": "9d510c4134c8c83d881e395b12e1a77e9e2e9fe690f25cdc8839b735785a9cd2"
   }
  }
 },
 "nbformat": 4,
 "nbformat_minor": 2
}